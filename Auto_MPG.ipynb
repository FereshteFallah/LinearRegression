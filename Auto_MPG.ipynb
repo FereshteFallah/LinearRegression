{
 "cells": [
  {
   "cell_type": "markdown",
   "id": "c14e2613-88dd-46c8-9be3-97c85c1c532d",
   "metadata": {},
   "source": [
    "**The MPG (Miles Per Gallon) dataset is a well-known dataset in machine learning that relates to cars and their various features. This dataset is typically used for regression analysis and predicting the fuel consumption of cars. It contains features such as engine type, number of cylinders, horsepower, car weight, and other attributes that help in predicting fuel consumption.**"
   ]
  },
  {
   "cell_type": "markdown",
   "id": "616b50f3-231e-4dd6-a683-649d461d438e",
   "metadata": {},
   "source": [
    "**Seaborn and Pandas are both used for data analysis in Python, but they have different roles. Here, Pandas is used for managing and processing DataFrame data, while Seaborn is used for visualization.**\n",
    "**NumPy is a powerful library for numerical computing and working with multidimensional arrays in Python.**\n",
    "**Matplotlib is a library for creating plots and visualizing data in Python.**"
   ]
  },
  {
   "cell_type": "code",
   "execution_count": 126,
   "id": "59846d29-a234-4d0f-84b1-86c64edf7d18",
   "metadata": {},
   "outputs": [],
   "source": [
    "import numpy as pd\n",
    "import pandas as pd\n",
    "import seaborn as sns\n",
    "import matplotlib.pyplot as plt"
   ]
  },
  {
   "cell_type": "markdown",
   "id": "29791215-6023-42e8-8ae7-f98f2962c738",
   "metadata": {},
   "source": [
    "**Loading and Viewing the Dataset(Download dataset file from git or Kaggel)**"
   ]
  },
  {
   "cell_type": "code",
   "execution_count": 132,
   "id": "168056ca-dd22-4648-9857-48476acb113e",
   "metadata": {},
   "outputs": [
    {
     "data": {
      "text/html": [
       "<div>\n",
       "<style scoped>\n",
       "    .dataframe tbody tr th:only-of-type {\n",
       "        vertical-align: middle;\n",
       "    }\n",
       "\n",
       "    .dataframe tbody tr th {\n",
       "        vertical-align: top;\n",
       "    }\n",
       "\n",
       "    .dataframe thead th {\n",
       "        text-align: right;\n",
       "    }\n",
       "</style>\n",
       "<table border=\"1\" class=\"dataframe\">\n",
       "  <thead>\n",
       "    <tr style=\"text-align: right;\">\n",
       "      <th></th>\n",
       "      <th>mpg</th>\n",
       "      <th>cylinders</th>\n",
       "      <th>displacement</th>\n",
       "      <th>horsepower</th>\n",
       "      <th>weight</th>\n",
       "      <th>acceleration</th>\n",
       "      <th>model year</th>\n",
       "      <th>origin</th>\n",
       "      <th>car name</th>\n",
       "    </tr>\n",
       "  </thead>\n",
       "  <tbody>\n",
       "    <tr>\n",
       "      <th>0</th>\n",
       "      <td>18.0</td>\n",
       "      <td>8</td>\n",
       "      <td>307.0</td>\n",
       "      <td>130</td>\n",
       "      <td>3504</td>\n",
       "      <td>12.0</td>\n",
       "      <td>70</td>\n",
       "      <td>1</td>\n",
       "      <td>chevrolet chevelle malibu</td>\n",
       "    </tr>\n",
       "    <tr>\n",
       "      <th>1</th>\n",
       "      <td>15.0</td>\n",
       "      <td>8</td>\n",
       "      <td>350.0</td>\n",
       "      <td>165</td>\n",
       "      <td>3693</td>\n",
       "      <td>11.5</td>\n",
       "      <td>70</td>\n",
       "      <td>1</td>\n",
       "      <td>buick skylark 320</td>\n",
       "    </tr>\n",
       "    <tr>\n",
       "      <th>2</th>\n",
       "      <td>18.0</td>\n",
       "      <td>8</td>\n",
       "      <td>318.0</td>\n",
       "      <td>150</td>\n",
       "      <td>3436</td>\n",
       "      <td>11.0</td>\n",
       "      <td>70</td>\n",
       "      <td>1</td>\n",
       "      <td>plymouth satellite</td>\n",
       "    </tr>\n",
       "    <tr>\n",
       "      <th>3</th>\n",
       "      <td>16.0</td>\n",
       "      <td>8</td>\n",
       "      <td>304.0</td>\n",
       "      <td>150</td>\n",
       "      <td>3433</td>\n",
       "      <td>12.0</td>\n",
       "      <td>70</td>\n",
       "      <td>1</td>\n",
       "      <td>amc rebel sst</td>\n",
       "    </tr>\n",
       "    <tr>\n",
       "      <th>4</th>\n",
       "      <td>17.0</td>\n",
       "      <td>8</td>\n",
       "      <td>302.0</td>\n",
       "      <td>140</td>\n",
       "      <td>3449</td>\n",
       "      <td>10.5</td>\n",
       "      <td>70</td>\n",
       "      <td>1</td>\n",
       "      <td>ford torino</td>\n",
       "    </tr>\n",
       "    <tr>\n",
       "      <th>...</th>\n",
       "      <td>...</td>\n",
       "      <td>...</td>\n",
       "      <td>...</td>\n",
       "      <td>...</td>\n",
       "      <td>...</td>\n",
       "      <td>...</td>\n",
       "      <td>...</td>\n",
       "      <td>...</td>\n",
       "      <td>...</td>\n",
       "    </tr>\n",
       "    <tr>\n",
       "      <th>393</th>\n",
       "      <td>27.0</td>\n",
       "      <td>4</td>\n",
       "      <td>140.0</td>\n",
       "      <td>86</td>\n",
       "      <td>2790</td>\n",
       "      <td>15.6</td>\n",
       "      <td>82</td>\n",
       "      <td>1</td>\n",
       "      <td>ford mustang gl</td>\n",
       "    </tr>\n",
       "    <tr>\n",
       "      <th>394</th>\n",
       "      <td>44.0</td>\n",
       "      <td>4</td>\n",
       "      <td>97.0</td>\n",
       "      <td>52</td>\n",
       "      <td>2130</td>\n",
       "      <td>24.6</td>\n",
       "      <td>82</td>\n",
       "      <td>2</td>\n",
       "      <td>vw pickup</td>\n",
       "    </tr>\n",
       "    <tr>\n",
       "      <th>395</th>\n",
       "      <td>32.0</td>\n",
       "      <td>4</td>\n",
       "      <td>135.0</td>\n",
       "      <td>84</td>\n",
       "      <td>2295</td>\n",
       "      <td>11.6</td>\n",
       "      <td>82</td>\n",
       "      <td>1</td>\n",
       "      <td>dodge rampage</td>\n",
       "    </tr>\n",
       "    <tr>\n",
       "      <th>396</th>\n",
       "      <td>28.0</td>\n",
       "      <td>4</td>\n",
       "      <td>120.0</td>\n",
       "      <td>79</td>\n",
       "      <td>2625</td>\n",
       "      <td>18.6</td>\n",
       "      <td>82</td>\n",
       "      <td>1</td>\n",
       "      <td>ford ranger</td>\n",
       "    </tr>\n",
       "    <tr>\n",
       "      <th>397</th>\n",
       "      <td>31.0</td>\n",
       "      <td>4</td>\n",
       "      <td>119.0</td>\n",
       "      <td>82</td>\n",
       "      <td>2720</td>\n",
       "      <td>19.4</td>\n",
       "      <td>82</td>\n",
       "      <td>1</td>\n",
       "      <td>chevy s-10</td>\n",
       "    </tr>\n",
       "  </tbody>\n",
       "</table>\n",
       "<p>398 rows × 9 columns</p>\n",
       "</div>"
      ],
      "text/plain": [
       "      mpg  cylinders  displacement horsepower  weight  acceleration  \\\n",
       "0    18.0          8         307.0        130    3504          12.0   \n",
       "1    15.0          8         350.0        165    3693          11.5   \n",
       "2    18.0          8         318.0        150    3436          11.0   \n",
       "3    16.0          8         304.0        150    3433          12.0   \n",
       "4    17.0          8         302.0        140    3449          10.5   \n",
       "..    ...        ...           ...        ...     ...           ...   \n",
       "393  27.0          4         140.0         86    2790          15.6   \n",
       "394  44.0          4          97.0         52    2130          24.6   \n",
       "395  32.0          4         135.0         84    2295          11.6   \n",
       "396  28.0          4         120.0         79    2625          18.6   \n",
       "397  31.0          4         119.0         82    2720          19.4   \n",
       "\n",
       "     model year  origin                   car name  \n",
       "0            70       1  chevrolet chevelle malibu  \n",
       "1            70       1          buick skylark 320  \n",
       "2            70       1         plymouth satellite  \n",
       "3            70       1              amc rebel sst  \n",
       "4            70       1                ford torino  \n",
       "..          ...     ...                        ...  \n",
       "393          82       1            ford mustang gl  \n",
       "394          82       2                  vw pickup  \n",
       "395          82       1              dodge rampage  \n",
       "396          82       1                ford ranger  \n",
       "397          82       1                 chevy s-10  \n",
       "\n",
       "[398 rows x 9 columns]"
      ]
     },
     "execution_count": 132,
     "metadata": {},
     "output_type": "execute_result"
    }
   ],
   "source": [
    "df=pd.read_csv('~/Downloads/DataSet/auto-mpg.csv')\n",
    "df"
   ]
  },
  {
   "cell_type": "code",
   "execution_count": 133,
   "id": "93586e05-69df-4448-b5db-c6974c1decd9",
   "metadata": {},
   "outputs": [
    {
     "data": {
      "text/html": [
       "<div>\n",
       "<style scoped>\n",
       "    .dataframe tbody tr th:only-of-type {\n",
       "        vertical-align: middle;\n",
       "    }\n",
       "\n",
       "    .dataframe tbody tr th {\n",
       "        vertical-align: top;\n",
       "    }\n",
       "\n",
       "    .dataframe thead th {\n",
       "        text-align: right;\n",
       "    }\n",
       "</style>\n",
       "<table border=\"1\" class=\"dataframe\">\n",
       "  <thead>\n",
       "    <tr style=\"text-align: right;\">\n",
       "      <th></th>\n",
       "      <th>mpg</th>\n",
       "      <th>cylinders</th>\n",
       "      <th>displacement</th>\n",
       "      <th>weight</th>\n",
       "      <th>acceleration</th>\n",
       "      <th>model year</th>\n",
       "      <th>origin</th>\n",
       "    </tr>\n",
       "  </thead>\n",
       "  <tbody>\n",
       "    <tr>\n",
       "      <th>count</th>\n",
       "      <td>398.000000</td>\n",
       "      <td>398.000000</td>\n",
       "      <td>398.000000</td>\n",
       "      <td>398.000000</td>\n",
       "      <td>398.000000</td>\n",
       "      <td>398.000000</td>\n",
       "      <td>398.000000</td>\n",
       "    </tr>\n",
       "    <tr>\n",
       "      <th>mean</th>\n",
       "      <td>23.514573</td>\n",
       "      <td>5.454774</td>\n",
       "      <td>193.425879</td>\n",
       "      <td>2970.424623</td>\n",
       "      <td>15.568090</td>\n",
       "      <td>76.010050</td>\n",
       "      <td>1.572864</td>\n",
       "    </tr>\n",
       "    <tr>\n",
       "      <th>std</th>\n",
       "      <td>7.815984</td>\n",
       "      <td>1.701004</td>\n",
       "      <td>104.269838</td>\n",
       "      <td>846.841774</td>\n",
       "      <td>2.757689</td>\n",
       "      <td>3.697627</td>\n",
       "      <td>0.802055</td>\n",
       "    </tr>\n",
       "    <tr>\n",
       "      <th>min</th>\n",
       "      <td>9.000000</td>\n",
       "      <td>3.000000</td>\n",
       "      <td>68.000000</td>\n",
       "      <td>1613.000000</td>\n",
       "      <td>8.000000</td>\n",
       "      <td>70.000000</td>\n",
       "      <td>1.000000</td>\n",
       "    </tr>\n",
       "    <tr>\n",
       "      <th>25%</th>\n",
       "      <td>17.500000</td>\n",
       "      <td>4.000000</td>\n",
       "      <td>104.250000</td>\n",
       "      <td>2223.750000</td>\n",
       "      <td>13.825000</td>\n",
       "      <td>73.000000</td>\n",
       "      <td>1.000000</td>\n",
       "    </tr>\n",
       "    <tr>\n",
       "      <th>50%</th>\n",
       "      <td>23.000000</td>\n",
       "      <td>4.000000</td>\n",
       "      <td>148.500000</td>\n",
       "      <td>2803.500000</td>\n",
       "      <td>15.500000</td>\n",
       "      <td>76.000000</td>\n",
       "      <td>1.000000</td>\n",
       "    </tr>\n",
       "    <tr>\n",
       "      <th>75%</th>\n",
       "      <td>29.000000</td>\n",
       "      <td>8.000000</td>\n",
       "      <td>262.000000</td>\n",
       "      <td>3608.000000</td>\n",
       "      <td>17.175000</td>\n",
       "      <td>79.000000</td>\n",
       "      <td>2.000000</td>\n",
       "    </tr>\n",
       "    <tr>\n",
       "      <th>max</th>\n",
       "      <td>46.600000</td>\n",
       "      <td>8.000000</td>\n",
       "      <td>455.000000</td>\n",
       "      <td>5140.000000</td>\n",
       "      <td>24.800000</td>\n",
       "      <td>82.000000</td>\n",
       "      <td>3.000000</td>\n",
       "    </tr>\n",
       "  </tbody>\n",
       "</table>\n",
       "</div>"
      ],
      "text/plain": [
       "              mpg   cylinders  displacement       weight  acceleration  \\\n",
       "count  398.000000  398.000000    398.000000   398.000000    398.000000   \n",
       "mean    23.514573    5.454774    193.425879  2970.424623     15.568090   \n",
       "std      7.815984    1.701004    104.269838   846.841774      2.757689   \n",
       "min      9.000000    3.000000     68.000000  1613.000000      8.000000   \n",
       "25%     17.500000    4.000000    104.250000  2223.750000     13.825000   \n",
       "50%     23.000000    4.000000    148.500000  2803.500000     15.500000   \n",
       "75%     29.000000    8.000000    262.000000  3608.000000     17.175000   \n",
       "max     46.600000    8.000000    455.000000  5140.000000     24.800000   \n",
       "\n",
       "       model year      origin  \n",
       "count  398.000000  398.000000  \n",
       "mean    76.010050    1.572864  \n",
       "std      3.697627    0.802055  \n",
       "min     70.000000    1.000000  \n",
       "25%     73.000000    1.000000  \n",
       "50%     76.000000    1.000000  \n",
       "75%     79.000000    2.000000  \n",
       "max     82.000000    3.000000  "
      ]
     },
     "execution_count": 133,
     "metadata": {},
     "output_type": "execute_result"
    }
   ],
   "source": [
    "df.describe()"
   ]
  },
  {
   "cell_type": "code",
   "execution_count": 134,
   "id": "15b9a01c-b27d-4b4b-b4c2-02af56f48ebd",
   "metadata": {},
   "outputs": [
    {
     "name": "stdout",
     "output_type": "stream",
     "text": [
      "<class 'pandas.core.frame.DataFrame'>\n",
      "RangeIndex: 398 entries, 0 to 397\n",
      "Data columns (total 9 columns):\n",
      " #   Column        Non-Null Count  Dtype  \n",
      "---  ------        --------------  -----  \n",
      " 0   mpg           398 non-null    float64\n",
      " 1   cylinders     398 non-null    int64  \n",
      " 2   displacement  398 non-null    float64\n",
      " 3   horsepower    398 non-null    object \n",
      " 4   weight        398 non-null    int64  \n",
      " 5   acceleration  398 non-null    float64\n",
      " 6   model year    398 non-null    int64  \n",
      " 7   origin        398 non-null    int64  \n",
      " 8   car name      398 non-null    object \n",
      "dtypes: float64(3), int64(4), object(2)\n",
      "memory usage: 28.1+ KB\n"
     ]
    }
   ],
   "source": [
    "df.info()"
   ]
  },
  {
   "cell_type": "markdown",
   "id": "c2255194-542b-40b5-b3af-00d4f252954e",
   "metadata": {},
   "source": [
    "**Finding missing values in each column.There is no empty field here.**"
   ]
  },
  {
   "cell_type": "code",
   "execution_count": 135,
   "id": "2bb51365-6dd3-4a67-9b17-2a6a7b3d0287",
   "metadata": {},
   "outputs": [
    {
     "name": "stdout",
     "output_type": "stream",
     "text": [
      "mpg             0\n",
      "cylinders       0\n",
      "displacement    0\n",
      "horsepower      0\n",
      "weight          0\n",
      "acceleration    0\n",
      "model year      0\n",
      "origin          0\n",
      "car name        0\n",
      "dtype: int64\n"
     ]
    }
   ],
   "source": [
    "print(df.isnull().sum())"
   ]
  },
  {
   "cell_type": "code",
   "execution_count": 136,
   "id": "b1d1e3d0-e6d4-4879-835f-840aa6fb24a2",
   "metadata": {},
   "outputs": [],
   "source": [
    "df['horsepower'] = df['horsepower'].replace('?', 0).astype(int)"
   ]
  },
  {
   "cell_type": "markdown",
   "id": "07062b1d-2e34-427e-8a8f-815d784d7bec",
   "metadata": {},
   "source": [
    "**A heatmap is one of the best methods for visualizing the correlation between numerical variables in a dataset. In this method, the correlation matrix is displayed using different colors, where high correlation values (positive or negative) are highlighted with specific colors.**"
   ]
  },
  {
   "cell_type": "code",
   "execution_count": 150,
   "id": "28e77b86-8636-4189-9506-338349121e1b",
   "metadata": {},
   "outputs": [
    {
     "data": {
      "text/html": [
       "<div>\n",
       "<style scoped>\n",
       "    .dataframe tbody tr th:only-of-type {\n",
       "        vertical-align: middle;\n",
       "    }\n",
       "\n",
       "    .dataframe tbody tr th {\n",
       "        vertical-align: top;\n",
       "    }\n",
       "\n",
       "    .dataframe thead th {\n",
       "        text-align: right;\n",
       "    }\n",
       "</style>\n",
       "<table border=\"1\" class=\"dataframe\">\n",
       "  <thead>\n",
       "    <tr style=\"text-align: right;\">\n",
       "      <th></th>\n",
       "      <th>mpg</th>\n",
       "      <th>cylinders</th>\n",
       "      <th>displacement</th>\n",
       "      <th>horsepower</th>\n",
       "      <th>weight</th>\n",
       "      <th>acceleration</th>\n",
       "      <th>model year</th>\n",
       "      <th>origin</th>\n",
       "    </tr>\n",
       "  </thead>\n",
       "  <tbody>\n",
       "    <tr>\n",
       "      <th>mpg</th>\n",
       "      <td>1.000000</td>\n",
       "      <td>-0.775396</td>\n",
       "      <td>-0.804203</td>\n",
       "      <td>-0.754276</td>\n",
       "      <td>-0.831741</td>\n",
       "      <td>0.420289</td>\n",
       "      <td>0.579267</td>\n",
       "      <td>0.563450</td>\n",
       "    </tr>\n",
       "    <tr>\n",
       "      <th>cylinders</th>\n",
       "      <td>-0.775396</td>\n",
       "      <td>1.000000</td>\n",
       "      <td>0.950721</td>\n",
       "      <td>0.821656</td>\n",
       "      <td>0.896017</td>\n",
       "      <td>-0.505419</td>\n",
       "      <td>-0.348746</td>\n",
       "      <td>-0.562543</td>\n",
       "    </tr>\n",
       "    <tr>\n",
       "      <th>displacement</th>\n",
       "      <td>-0.804203</td>\n",
       "      <td>0.950721</td>\n",
       "      <td>1.000000</td>\n",
       "      <td>0.871927</td>\n",
       "      <td>0.932824</td>\n",
       "      <td>-0.543684</td>\n",
       "      <td>-0.370164</td>\n",
       "      <td>-0.609409</td>\n",
       "    </tr>\n",
       "    <tr>\n",
       "      <th>horsepower</th>\n",
       "      <td>-0.754276</td>\n",
       "      <td>0.821656</td>\n",
       "      <td>0.871927</td>\n",
       "      <td>1.000000</td>\n",
       "      <td>0.837987</td>\n",
       "      <td>-0.673940</td>\n",
       "      <td>-0.411587</td>\n",
       "      <td>-0.418636</td>\n",
       "    </tr>\n",
       "    <tr>\n",
       "      <th>weight</th>\n",
       "      <td>-0.831741</td>\n",
       "      <td>0.896017</td>\n",
       "      <td>0.932824</td>\n",
       "      <td>0.837987</td>\n",
       "      <td>1.000000</td>\n",
       "      <td>-0.417457</td>\n",
       "      <td>-0.306564</td>\n",
       "      <td>-0.581024</td>\n",
       "    </tr>\n",
       "    <tr>\n",
       "      <th>acceleration</th>\n",
       "      <td>0.420289</td>\n",
       "      <td>-0.505419</td>\n",
       "      <td>-0.543684</td>\n",
       "      <td>-0.673940</td>\n",
       "      <td>-0.417457</td>\n",
       "      <td>1.000000</td>\n",
       "      <td>0.288137</td>\n",
       "      <td>0.205873</td>\n",
       "    </tr>\n",
       "    <tr>\n",
       "      <th>model year</th>\n",
       "      <td>0.579267</td>\n",
       "      <td>-0.348746</td>\n",
       "      <td>-0.370164</td>\n",
       "      <td>-0.411587</td>\n",
       "      <td>-0.306564</td>\n",
       "      <td>0.288137</td>\n",
       "      <td>1.000000</td>\n",
       "      <td>0.180662</td>\n",
       "    </tr>\n",
       "    <tr>\n",
       "      <th>origin</th>\n",
       "      <td>0.563450</td>\n",
       "      <td>-0.562543</td>\n",
       "      <td>-0.609409</td>\n",
       "      <td>-0.418636</td>\n",
       "      <td>-0.581024</td>\n",
       "      <td>0.205873</td>\n",
       "      <td>0.180662</td>\n",
       "      <td>1.000000</td>\n",
       "    </tr>\n",
       "  </tbody>\n",
       "</table>\n",
       "</div>"
      ],
      "text/plain": [
       "                   mpg  cylinders  displacement  horsepower    weight  \\\n",
       "mpg           1.000000  -0.775396     -0.804203   -0.754276 -0.831741   \n",
       "cylinders    -0.775396   1.000000      0.950721    0.821656  0.896017   \n",
       "displacement -0.804203   0.950721      1.000000    0.871927  0.932824   \n",
       "horsepower   -0.754276   0.821656      0.871927    1.000000  0.837987   \n",
       "weight       -0.831741   0.896017      0.932824    0.837987  1.000000   \n",
       "acceleration  0.420289  -0.505419     -0.543684   -0.673940 -0.417457   \n",
       "model year    0.579267  -0.348746     -0.370164   -0.411587 -0.306564   \n",
       "origin        0.563450  -0.562543     -0.609409   -0.418636 -0.581024   \n",
       "\n",
       "              acceleration  model year    origin  \n",
       "mpg               0.420289    0.579267  0.563450  \n",
       "cylinders        -0.505419   -0.348746 -0.562543  \n",
       "displacement     -0.543684   -0.370164 -0.609409  \n",
       "horsepower       -0.673940   -0.411587 -0.418636  \n",
       "weight           -0.417457   -0.306564 -0.581024  \n",
       "acceleration      1.000000    0.288137  0.205873  \n",
       "model year        0.288137    1.000000  0.180662  \n",
       "origin            0.205873    0.180662  1.000000  "
      ]
     },
     "execution_count": 150,
     "metadata": {},
     "output_type": "execute_result"
    }
   ],
   "source": [
    "df1=df\n",
    "df1=df1.drop(columns=['car name'])\n",
    "df1.corr()"
   ]
  },
  {
   "cell_type": "markdown",
   "id": "5581adde-0862-4314-9de8-633d4332ac32",
   "metadata": {},
   "source": [
    "plt.figure(figsize=(10, 10))\n",
    "sns.heatmap(df1.corr(),annot=True)\n"
   ]
  },
  {
   "cell_type": "code",
   "execution_count": 151,
   "id": "13e3f42e-6556-4d6c-9bf8-a053824942b1",
   "metadata": {},
   "outputs": [],
   "source": [
    "target=df1['mpg']   #mpg column is target so we should remove it to prevent overfitting."
   ]
  },
  {
   "cell_type": "code",
   "execution_count": 155,
   "id": "2f929dd8-2993-4b84-898c-856d3dc46028",
   "metadata": {},
   "outputs": [
    {
     "name": "stdout",
     "output_type": "stream",
     "text": [
      "cylinders: 0.3707\n",
      "weight: 0.2938\n",
      "horsepower: 0.1531\n",
      "model year: 0.1415\n",
      "displacement: 0.0308\n"
     ]
    }
   ],
   "source": [
    "#Check the feature importance with RandomForestRegressor\n",
    "\n",
    "import pandas as pd\n",
    "from sklearn.ensemble import RandomForestRegressor\n",
    "import numpy as np\n",
    "\n",
    "\n",
    "rf = RandomForestRegressor(n_estimators=100, random_state=42)\n",
    "rf.fit(x_train, y_train)\n",
    "\n",
    "# Checking feature importance\n",
    "importances = rf.feature_importances_\n",
    "sorted_idx = np.argsort(importances)[::-1]\n",
    "\n",
    "# Ensuring that the number of indices matches\n",
    "for i in sorted_idx[:X_train.shape[1]]:\n",
    "    print(f\"{X_train.columns[i]}: {importances[i]:.4f}\")\n",
    "\n"
   ]
  },
  {
   "cell_type": "code",
   "execution_count": null,
   "id": "ec495d0d-34f6-4501-beb6-1cbf8c320dee",
   "metadata": {},
   "outputs": [],
   "source": []
  },
  {
   "cell_type": "markdown",
   "id": "6c0bef9e-69fc-498f-af90-1c781fea4d8a",
   "metadata": {},
   "source": [
    "**The features weight and displacement have almost similar importance and both have a significant impact on mpg.**\n",
    "**Suggestion: Remove one of these two, not both!**\n",
    "**Error: If you remove both, the model will lose important information.**"
   ]
  },
  {
   "cell_type": "code",
   "execution_count": 140,
   "id": "9c848ce8-3df4-4bb9-a702-d9e196f6145c",
   "metadata": {},
   "outputs": [],
   "source": [
    "df1=df1.drop(columns=['mpg','displacement'])"
   ]
  },
  {
   "cell_type": "markdown",
   "id": "cde388f5-54a8-4c3b-a8f0-726dbcc4c948",
   "metadata": {},
   "source": [
    "### Splitting Data into Training and Testing Sets ###"
   ]
  },
  {
   "cell_type": "code",
   "execution_count": 141,
   "id": "b09c5ee0-6b39-4cb9-8d42-c6e73b24394e",
   "metadata": {},
   "outputs": [],
   "source": [
    "from sklearn.model_selection import train_test_split\n",
    "x_train,x_test,y_train,y_test=train_test_split(df1,target,test_size=0.3)"
   ]
  },
  {
   "cell_type": "markdown",
   "id": "fec8e437-3769-425c-928f-0d6b35d95acc",
   "metadata": {},
   "source": [
    "### LinearRegression Model ###"
   ]
  },
  {
   "cell_type": "code",
   "execution_count": 142,
   "id": "a92bb0c1-41e3-4a0b-8602-041dd7aede59",
   "metadata": {},
   "outputs": [],
   "source": [
    "from sklearn.linear_model import LinearRegression\n",
    "lr=LinearRegression()\n",
    "lr.fit(x_train,y_train)\n",
    "predicted=lr.predict(x_test)"
   ]
  },
  {
   "cell_type": "code",
   "execution_count": 143,
   "id": "ea23484f-af4c-4d73-a68d-a846ef6c45ad",
   "metadata": {},
   "outputs": [
    {
     "data": {
      "text/plain": [
       "<matplotlib.collections.PathCollection at 0x1324dea20>"
      ]
     },
     "execution_count": 143,
     "metadata": {},
     "output_type": "execute_result"
    },
    {
     "data": {
      "image/png": "[encoded data removed]",
      "text/plain": [
       "<Figure size 640x480 with 1 Axes>"
      ]
     },
     "metadata": {},
     "output_type": "display_data"
    }
   ],
   "source": [
    "plt.scatter(y_test,predicted)"
   ]
  },
  {
   "cell_type": "code",
   "execution_count": 144,
   "id": "703fbeff-e5d4-439a-93b0-609c8c1382ef",
   "metadata": {},
   "outputs": [
    {
     "name": "stdout",
     "output_type": "stream",
     "text": [
      "11.606064613995283\n",
      "0.7969746733350951\n"
     ]
    }
   ],
   "source": [
    "from sklearn.metrics import  mean_squared_error, r2_score\n",
    "\n",
    "print(mean_squared_error(y_test,predicted))\n",
    "print(r2_score(y_test, predicted))"
   ]
  },
  {
   "cell_type": "markdown",
   "id": "b4d1a890-bf6f-4ff2-b22b-c785d679e46a",
   "metadata": {},
   "source": [
    "### Adding Non-linear Features (Polynomial Features) ###\n",
    "\n",
    "**Sometimes, the relationship between mpg and the features is not linear. Adding the square of the features (x²) can make the model more accurate.**\n",
    "\n",
    "**Method: Create polynomial features ( weight², horsepower²) and test their impact.**"
   ]
  },
  {
   "cell_type": "code",
   "execution_count": 145,
   "id": "a17645f3-d5db-43eb-b8cf-de6eb962f441",
   "metadata": {},
   "outputs": [
    {
     "name": "stdout",
     "output_type": "stream",
     "text": [
      "Polynomial Regression (Degree=2) → MSE: 7.4488, R²: 0.8697\n"
     ]
    }
   ],
   "source": [
    "from sklearn.preprocessing import PolynomialFeatures\n",
    "from sklearn.linear_model import LinearRegression\n",
    "from sklearn.pipeline import Pipeline\n",
    "from sklearn.metrics import mean_squared_error, r2_score\n",
    "\n",
    "# Creating polynomial features using training and testing data\n",
    "poly = PolynomialFeatures(degree=2, include_bias=False)\n",
    "\n",
    "# Converting training and testing data\n",
    "X_train_poly = poly.fit_transform(x_train)\n",
    "X_test_poly = poly.transform(x_test)\n",
    "\n",
    "# Training the model with polynomial features\n",
    "model = LinearRegression()\n",
    "model.fit(X_train_poly, y_train)\n",
    "\n",
    "# Prediction and evaluation\n",
    "y_pred = model.predict(X_test_poly)\n",
    "mse_poly = mean_squared_error(y_test, y_pred)\n",
    "r2_poly = r2_score(y_test, y_pred)\n",
    "\n",
    "print(f\"Polynomial Regression (Degree=2) → MSE: {mse_poly:.4f}, R²: {r2_poly:.4f}\")\n"
   ]
  },
  {
   "cell_type": "markdown",
   "id": "1d31f4cc-d093-429a-9128-51ddcdf33730",
   "metadata": {},
   "source": [
    "### RandomForestRegressor Model ###"
   ]
  },
  {
   "cell_type": "code",
   "execution_count": 146,
   "id": "9b07e861-183a-4451-997e-d01e092be42f",
   "metadata": {},
   "outputs": [
    {
     "name": "stdout",
     "output_type": "stream",
     "text": [
      "Random Forest → MSE: 7.3282, R²: 0.8718\n"
     ]
    }
   ],
   "source": [
    "from sklearn.ensemble import RandomForestRegressor\n",
    "\n",
    "#  Random Forest model\n",
    "rf = RandomForestRegressor(n_estimators=100, random_state=42)\n",
    "rf.fit(x_train, y_train)\n",
    "\n",
    "# Prediction and evaluation\n",
    "y_pred_rf = rf.predict(x_test)\n",
    "mse_rf = mean_squared_error(y_test, y_pred_rf)\n",
    "r2_rf = r2_score(y_test, y_pred_rf)\n",
    "\n",
    "print(f\"Random Forest → MSE: {mse_rf:.4f}, R²: {r2_rf:.4f}\")\n"
   ]
  },
  {
   "cell_type": "markdown",
   "id": "bc35007e-e22a-4bed-9317-5d97ba5f5924",
   "metadata": {},
   "source": [
    "### GradientBoostingRegressor Model ###"
   ]
  },
  {
   "cell_type": "code",
   "execution_count": 147,
   "id": "fa2b6a52-9546-4640-b11c-29cfd6136b91",
   "metadata": {},
   "outputs": [
    {
     "name": "stdout",
     "output_type": "stream",
     "text": [
      "Gradient Boosting → MSE: 6.6107, R²: 0.8844\n"
     ]
    }
   ],
   "source": [
    "from sklearn.ensemble import GradientBoostingRegressor\n",
    "from sklearn.metrics import mean_squared_error, r2_score\n",
    "\n",
    "#  Gradient Boosting model\n",
    "gb = GradientBoostingRegressor(n_estimators=100, learning_rate=0.1, max_depth=3, random_state=42)\n",
    "\n",
    "# Training the model\n",
    "gb.fit(x_train, y_train)\n",
    "\n",
    "# Prediction and evaluation\n",
    "y_pred_gb = gb.predict(x_test)\n",
    "mse_gb = mean_squared_error(y_test, y_pred_gb)\n",
    "r2_gb = r2_score(y_test, y_pred_gb)\n",
    "\n",
    "print(f\"Gradient Boosting → MSE: {mse_gb:.4f}, R²: {r2_gb:.4f}\")\n"
   ]
  },
  {
   "cell_type": "markdown",
   "id": "38e52a36-42d9-4033-b547-a4371f2c1036",
   "metadata": {},
   "source": [
    "**If you want to make a more precise comparison or improve the models,By using GridSearchCV or RandomizedSearchCV, we can optimize the model parameters and increase accuracy.**"
   ]
  },
  {
   "cell_type": "markdown",
   "id": "c1c8e809-5224-4dbb-a210-f1badbfeec81",
   "metadata": {},
   "source": [
    "### Code for setting up the Gradient Boosting model with GridSearchCV ###\n",
    "\n",
    "\n",
    "**For optimizing the Gradient Boosting model, there are several important parameters that we can adjust:**\n",
    "\n",
    "**n_estimators: The number of trees.**\n",
    "**learning_rate: The learning rate, which has a significant impact on the model.**\n",
    "**max_depth: The depth of each tree.**\n",
    "**subsample: The percentage of data sampled for each tree.**"
   ]
  },
  {
   "cell_type": "code",
   "execution_count": 148,
   "id": "9e46209c-38bf-4581-9976-d483ba047ab3",
   "metadata": {},
   "outputs": [
    {
     "name": "stdout",
     "output_type": "stream",
     "text": [
      "Best parameters: {'learning_rate': 0.1, 'max_depth': 3, 'n_estimators': 50, 'subsample': 1.0}\n",
      "Best score (MSE): -9.209404810022914\n",
      "Optimized Gradient Boosting → MSE: 6.4718, R²: 0.8868\n"
     ]
    }
   ],
   "source": [
    "from sklearn.model_selection import GridSearchCV\n",
    "from sklearn.ensemble import GradientBoostingRegressor\n",
    "\n",
    "# The parameters we want to search for.\n",
    "param_grid = {\n",
    "    'n_estimators': [50, 100, 150],\n",
    "    'learning_rate': [0.01, 0.1, 0.2],\n",
    "    'max_depth': [3, 4, 5],\n",
    "    'subsample': [0.8, 0.9, 1.0]\n",
    "}\n",
    "\n",
    "# Building the Gradient Boosting model.\n",
    "gb = GradientBoostingRegressor(random_state=42)\n",
    "\n",
    "#GridSearchCV for optimization.\n",
    "grid_search = GridSearchCV(estimator=gb, param_grid=param_grid, cv=5, scoring='neg_mean_squared_error', n_jobs=-1)\n",
    "\n",
    "#training model\n",
    "grid_search.fit(x_train, y_train)\n",
    "\n",
    "# The best parameters and the result.\n",
    "print(\"Best parameters:\", grid_search.best_params_)\n",
    "print(\"Best score (MSE):\", grid_search.best_score_)\n",
    "\n",
    "# Prediction with the best model\n",
    "y_pred_gb = grid_search.best_estimator_.predict(x_test)\n",
    "mse_gb = mean_squared_error(y_test, y_pred_gb)\n",
    "r2_gb = r2_score(y_test, y_pred_gb)\n",
    "\n",
    "print(f\"Optimized Gradient Boosting → MSE: {mse_gb:.4f}, R²: {r2_gb:.4f}\")\n"
   ]
  },
  {
   "cell_type": "markdown",
   "id": "1d9bf191-c64a-4b38-a328-0ec2be65d73e",
   "metadata": {},
   "source": [
    "### Code for setting up the Random Forest model with GridSearchCV ###\n",
    "\n",
    "\n",
    "**For optimizing the Gradient Boosting model, there are several important parameters that we can adjust:**\n",
    "\n",
    "**n_estimators: The number of trees.**\n",
    "**max_depth: The depth of the trees.**\n",
    "**min_samples_split: The minimum number of samples required to split each node.**\n",
    "**min_samples_leaf: The minimum number of samples required for each leaf.**"
   ]
  },
  {
   "cell_type": "markdown",
   "id": "481ceb44-3e5b-43e4-8983-5598f21a1849",
   "metadata": {},
   "source": [
    "**GridSearchCV is used to search all possible combinations of parameters, but it can be time-consuming.**"
   ]
  },
  {
   "cell_type": "code",
   "execution_count": 149,
   "id": "9b0a3e91-84c6-452b-bc86-095a9b4ae4d3",
   "metadata": {},
   "outputs": [
    {
     "name": "stdout",
     "output_type": "stream",
     "text": [
      "Best parameters (Random Forest): {'max_depth': 10, 'min_samples_leaf': 4, 'min_samples_split': 2, 'n_estimators': 50}\n",
      "Best score (MSE) (Random Forest): -9.561763011567873\n",
      "Optimized Random Forest → MSE: 7.1703, R²: 0.8746\n"
     ]
    }
   ],
   "source": [
    "from sklearn.model_selection import GridSearchCV\n",
    "from sklearn.ensemble import RandomForestRegressor\n",
    "\n",
    "#The parameters we want to search for.\n",
    "param_grid_rf = {\n",
    "    'n_estimators': [50, 100, 150],\n",
    "    'max_depth': [10, 20, 30],\n",
    "    'min_samples_split': [2, 5, 10],\n",
    "    'min_samples_leaf': [1, 2, 4]\n",
    "}\n",
    "\n",
    "# # Building the RandomForest model.\n",
    "rf = RandomForestRegressor(random_state=42)\n",
    "\n",
    "#GridSearchCV for optimization.\n",
    "grid_search_rf = GridSearchCV(estimator=rf, param_grid=param_grid_rf, cv=5, scoring='neg_mean_squared_error', n_jobs=-1)\n",
    "\n",
    "#training model\n",
    "grid_search_rf.fit(x_train, y_train)\n",
    "\n",
    "# The best parameters and the result.\n",
    "print(\"Best parameters (Random Forest):\", grid_search_rf.best_params_)\n",
    "print(\"Best score (MSE) (Random Forest):\", grid_search_rf.best_score_)\n",
    "\n",
    "# Prediction with the best model\n",
    "y_pred_rf = grid_search_rf.best_estimator_.predict(x_test)\n",
    "mse_rf = mean_squared_error(y_test, y_pred_rf)\n",
    "r2_rf = r2_score(y_test, y_pred_rf)\n",
    "\n",
    "print(f\"Optimized Random Forest → MSE: {mse_rf:.4f}, R²: {r2_rf:.4f}\")\n"
   ]
  },
  {
   "cell_type": "markdown",
   "id": "c2c6cdba-f6f9-43d2-a222-7a0ba95f2628",
   "metadata": {},
   "source": [
    "### Comparison and plotting the chart ###"
   ]
  },
  {
   "cell_type": "code",
   "execution_count": 161,
   "id": "24c73618-d9d5-4555-ac11-fe87a5951d85",
   "metadata": {},
   "outputs": [
    {
     "data": {
      "image/png": "[encoded data removed]",
      "text/plain": [
       "<Figure size 1000x600 with 2 Axes>"
      ]
     },
     "metadata": {},
     "output_type": "display_data"
    }
   ],
   "source": [
    "import matplotlib.pyplot as plt\n",
    "\n",
    "# Model names\n",
    "models = ['Linear Regression', 'Non-linear Features', 'RandomForestRegressor', \n",
    "          'Random Forest with GridSearchCV','GradientBoostingRegressor', 'Gradient Boosting with GridSearchCV', ]\n",
    "\n",
    "# MSE and R² values for each model (example values, replace with your actual results)\n",
    "mse_values = [11.60, 7.44, 7.32, 7.17, 6.61, 6.47]  # Replace with your MSE results\n",
    "r2_values = [0.79, 0.86, 0.87, 0.87, 0.88, 0.88]  # Replace with your R² results\n",
    "\n",
    "# Create subplots\n",
    "fig, ax1 = plt.subplots(figsize=(10, 6))\n",
    "\n",
    "# Bar chart for MSE\n",
    "bar_width = 0.35\n",
    "index = range(len(models))\n",
    "\n",
    "bar1 = ax1.bar(index, mse_values, bar_width, label='MSE', color='b', alpha=0.7)\n",
    "\n",
    "# Line chart for R²\n",
    "ax2 = ax1.twinx()\n",
    "line2 = ax2.plot(index, r2_values, label='R²', color='g', marker='o', linestyle='-', linewidth=2)\n",
    "\n",
    "# Adding labels and title\n",
    "ax1.set_xlabel('Models')\n",
    "ax1.set_ylabel('MSE', color='b')\n",
    "ax2.set_ylabel('R²', color='g')\n",
    "ax1.set_title('Model Performance: MSE and R²')\n",
    "ax1.set_xticks(index)\n",
    "ax1.set_xticklabels(models, rotation=45, ha='right')\n",
    "\n",
    "# Show legend\n",
    "ax1.legend(loc='upper left')\n",
    "ax2.legend(loc='upper right')\n",
    "\n",
    "# Display the plot\n",
    "plt.tight_layout()\n",
    "plt.show()\n"
   ]
  },
  {
   "cell_type": "markdown",
   "id": "f93a36de-cd07-48ed-8dc3-80a03865bc8f",
   "metadata": {},
   "source": [
    "### Conclusion ###\n"
   ]
  },
  {
   "cell_type": "markdown",
   "id": "b2fcb602-d44f-4f03-9c86-e7ead52daade",
   "metadata": {},
   "source": [
    "**Initially, I used the Linear Regression model, and to improve performance after removing some low-importance features from the dataset, I explored other models. Based on the results, the GradientBoostingRegressor algorithm provided better results compared to Random Forest. After that, to improve accuracy, GridSearchCV and finer parameter tuning in the two recent algorithms resulted in a slight improvement.\n",
    "After optimizing the model, the MSE (Mean Squared Error) decreased and the R² (Coefficient of Determination) increased. This means more accurate and better predictions.**"
   ]
  }
 ],
 "metadata": {
  "kernelspec": {
   "display_name": "Python 3 (ipykernel)",
   "language": "python",
   "name": "python3"
  },
  "language_info": {
   "codemirror_mode": {
    "name": "ipython",
    "version": 3
   },
   "file_extension": ".py",
   "mimetype": "text/x-python",
   "name": "python",
   "nbconvert_exporter": "python",
   "pygments_lexer": "ipython3",
   "version": "3.12.5"
  }
 },
 "nbformat": 4,
 "nbformat_minor": 5
}
